{
 "cells": [
  {
   "cell_type": "markdown",
   "metadata": {},
   "source": [
    "# Bitcoin Mint Verification Notebook\n", 
    "This notebook allows you to upload a Natural Standard image, computes its SIFT features, generates the Bitcoin mint address, and displays the result. Simply run each cell in order."   ]
  },
  {
   "cell_type": "code",
   "execution_count": null,
   "metadata": {},
   "outputs": [],
   "source": [
    "!pip install opencv-python==4.8.0.76 opencv-contrib-python==4.8.0.76 base58==2.1.1 numpy==1.26.4"   ]
  },
  {
   "cell_type": "code",
   "execution_count": null,
   "metadata": {},
   "outputs": [],
   "source": [
    "import cv2", 
    "import numpy as np", 
    "import hashlib", 
    "import binascii", 
    "import base58", 
    "from google.colab import files", 
    "from IPython.display import display, HTML"   ]
  },
  {
   "cell_type": "code",
   "execution_count": null,
   "metadata": {},
   "outputs": [],
   "source": [
    "# --- Define helper functions for SIFT and address generation ---\n",
    "def compute_sift_features_from_array(gray_image):\n",
    "    # Normalize lighting\n",
    "    image = cv2.equalizeHist(gray_image)\n",
    "    sift = cv2.SIFT_create(contrastThreshold=0.04, edgeThreshold=10, nfeatures=200)\n",
    "    keypoints, descriptors = sift.detectAndCompute(image, None)\n",
    "    if descriptors is None:\n",
    "        feature_vector = np.array([])\n",
    "    else:\n",
    "        feature_vector = descriptors.flatten()\n",
    "    return feature_vector\n",
    "\n",
    "def generate_feature_vector_hash(feature_vector):\n",
    "    counter = 0\n",
    "    while True:\n",
    "        rolled = np.roll(feature_vector, counter)\n",
    "        fv_bytes = rolled.tobytes()\n",
    "        h = hashlib.sha256(fv_bytes).hexdigest()[:19]\n",
    "        if '0' not in h and 'I' not in h:\n",
    "            return h\n",
    "        counter += 1\n",
    "\n",
    "def b58ec(hex_str):\n",
    "    data = bytearray.fromhex(hex_str)\n",
    "    return base58.b58encode(data).decode('ascii')\n",
    "\n",
    "def b58dc(encoded, trim=0):\n",
    "    raw = base58.b58decode(encoded)\n",
    "    return raw[:-trim] if trim else raw\n",
    "\n",
    "def hh256(data_bytes):\n",
    "    first = hashlib.sha256(data_bytes).digest()\n",
    "    second = hashlib.sha256(first).digest()\n",
    "    return binascii.hexlify(second)\n",
    "\n",
    "def burn(s):\n",
    "    decoded = b58dc(s, trim=4)\n",
    "    hexed = binascii.hexlify(decoded).decode('ascii')\n",
    "    check = hh256(decoded)[:8].decode('ascii')\n",
    "    return b58ec(hexed + check)\n"
   ]
  },
  {
   "cell_type": "markdown",
   "metadata": {},
   "source": [
    "## Upload and Verify\n", 
    "Use the widget below to upload your Natural Standard image. Once uploaded, run the following cell to compute the SIFT-based mint address."   ]
  },
  {
   "cell_type": "code",
   "execution_count": null,
   "metadata": {},
   "outputs": [],
   "source": [
    "# Fetch image from short-lived URL
url = input("Enter the short-lived image URL:")
import requests
resp = requests.get(url)
in_memory = np.frombuffer(resp.content, dtype=np.uint8)
gray = cv2.imdecode(in_memory, cv2.IMREAD_GRAYSCALE)
fv = compute_sift_features_from_array(gray)
fv_hash = generate_feature_vector_hash(fv)
template = f'1BtcMint{fv_hash}XXXXXXX'
address = burn(template)
print(f'Computed Bitcoin Mint Address: {address}')
# Optionally display keypoints visualization
kp_img = cv2.drawKeypoints(cv2.equalizeHist(gray), cv2.SIFT_create(contrastThreshold=0.04, edgeThreshold=10, nfeatures=200).detect(gray, None)[0], None)
_, buf = cv2.imencode('.png', kp_img)
display(HTML(f'<img src="data:image/png;base64,{base64.b64encode(buf).decode()}" style="max-width:300px;border:1px solid #ccc;"/>"))()  # Choose your image file\n",
    "for fname in uploaded:\n",
    "    # Read image into OpenCV\n",
    "    in_memory = np.frombuffer(uploaded[fname], dtype=np.uint8)\n",
    "    gray = cv2.imdecode(in_memory, cv2.IMREAD_GRAYSCALE)\n",
    "    fv = compute_sift_features_from_array(gray)\n",
    "    fv_hash = generate_feature_vector_hash(fv)\n",
    "    template = f'1BtcMint{fv_hash}XXXXXXX'\n",
    "    address = burn(template)\n",
    "    print(f'Computed Bitcoin Mint Address: {address}')\n",
    "    # Optionally display keypoints visualization\n",
    "    kp_img = cv2.drawKeypoints(cv2.equalizeHist(gray), cv2.SIFT_create(contrastThreshold=0.04, edgeThreshold=10, nfeatures=200).detect(gray, None)[0], None)\n",
    "    _, buf = cv2.imencode('.png', kp_img)\n",
    "    display(HTML(f'<img src="data:image/png;base64,{base64.b64encode(buf).decode()}" style="max-width:300px;border:1px solid #ccc;"/>'))\n"
   ]
  }
 ],
 "metadata": {"kernelspec": {"display_name": "Python 3", "language": "python", "name": "python3"}, "language_info": {"name": "python"}},
 "nbformat": 4,
 "nbformat_minor": 5
}

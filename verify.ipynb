{
 "cells": [
  {
   "cell_type": "markdown",
   "metadata": {},
   "source": [
    "# Bitcoin Mint Verification Notebook\n",
    "This notebook lets you fetch a Natural Standard image from a short-lived URL, compute its SIFT features, generate the Bitcoin mint address, and display the result.\n",
    "\n",
    "Run each cell in order. When prompted, paste the short-lived URL that your Flask app generated."
   ]
  },
  {
   "cell_type": "code",
   "execution_count": null,
   "metadata": {},
   "outputs": [],
   "source": [
    "!pip install opencv-python==4.8.0.76 opencv-contrib-python==4.8.0.76 base58==2.1.1 numpy==1.26.4 requests"
   ]
  },
  {
   "cell_type": "code",
   "execution_count": null,
   "metadata": {},
   "outputs": [],
   "source": [
    "import cv2\n",
    "import numpy as np\n",
    "import hashlib\n",
    "import binascii\n",
    "import base58\n",
    "import requests\n",
    "from IPython.display import display, HTML"
   ]
  },
  {
   "cell_type": "code",
   "execution_count": null,
   "metadata": {},
   "outputs": [],
   "source": [
    "# --- Define helper functions for SIFT and address generation ---\n",
    "def compute_sift_features_from_array(gray_image):\n",
    "    # Normalize lighting\n",
    "    img = cv2.equalizeHist(gray_image)\n",
    "    sift = cv2.SIFT_create(contrastThreshold=0.04, edgeThreshold=10, nfeatures=200)\n",
    "    keypoints, descriptors = sift.detectAndCompute(img, None)\n",
    "    if descriptors is None:\n",
    "        return np.array([])\n",
    "    return descriptors.flatten()\n",
    "\n",
    "def generate_feature_vector_hash(feature_vector):\n",
    "    counter = 0\n",
    "    while True:\n",
    "        rolled = np.roll(feature_vector, counter)\n",
    "        fv_bytes = rolled.tobytes()\n",
    "        h = hashlib.sha256(fv_bytes).hexdigest()[:19]\n",
    "        if '0' not in h and 'I' not in h:\n",
    "            return h\n",
    "        counter += 1\n",
    "\n",
    "def b58ec(hex_str):\n",
    "    data = bytearray.fromhex(hex_str)\n",
    "    return base58.b58encode(data).decode('ascii')\n",
    "\n",
    "def b58dc(encoded, trim=0):\n",
    "    raw = base58.b58decode(encoded)\n",
    "    return raw[:-trim] if trim else raw\n",
    "\n",
    "def hh256(data_bytes):\n",
    "    first = hashlib.sha256(data_bytes).digest()\n",
    "    second = hashlib.sha256(first).digest()\n",
    "    return binascii.hexlify(second)\n",
    "\n",
    "def burn(template):\n",
    "    decoded = b58dc(template, trim=4)\n",
    "    hexed = binascii.hexlify(decoded).decode('ascii')\n",
    "    check = hh256(decoded)[:8].decode('ascii')\n",
    "    return b58ec(hexed + check)\n"
   ]
  },
  {
   "cell_type": "markdown",
   "metadata": {},
   "source": [
    "## Fetch and Verify"
   ]
  },
  {
   "cell_type": "code",
   "execution_count": null,
   "metadata": {},
   "outputs": [],
   "source": [
    "# Prompt for the short-lived URL of the uploaded Natural Standard image\n",
    "url = input(\"Enter the short-lived image URL:\").strip()\n",
    "\n",
    "# Download the bytes\n",
    "resp = requests.get(url)\n",
    "\n",
    "# Print some debug info:\n",
    "print(\"URL requested:\", url)\n",
    "print(\"HTTP status code:\", resp.status_code)\n",
    "print(\"Content-Type header:\", resp.headers.get(\"Content-Type\"))  # might be None\n",
    "print(\"Response size (bytes):\", len(resp.content))\n",
    "\n",
    "# Build a 1-D uint8 array from the bytes\n",
    "nparr = np.asarray(bytearray(resp.content), dtype=np.uint8)\n",
    "print(\"nparr dtype:\", nparr.dtype, \"shape:\", nparr.shape)\n",
    "\n",
    "# Decode to grayscale (this will fail if the bytes are not a valid image)\n",
    "gray = cv2.imdecode(nparr, cv2.IMREAD_GRAYSCALE)\n",
    "if gray is None:\n",
    "    raise RuntimeError(\"cv2.imdecode returned None — make sure the URL points to a real PNG/JPEG\")\n",
    "\n",
    "# Compute SIFT feature vector and hash\n",
    "fv = compute_sift_features_from_array(gray)\n",
    "fv_hash = generate_feature_vector_hash(fv)\n",
    "template = f\"1BtcMint{fv_hash}XXXXXXX\"\n",
    "address = burn(template)\n",
    "print(f\"Computed Bitcoin Mint Address: {address}\")\n"
   ]
  }
 ],
 "metadata": {
  "kernelspec": {
   "display_name": "Python 3",
   "language": "python",
   "name": "python3"
  },
  "language_info": {
   "name": "python"
  }
 },
 "nbformat": 4,
 "nbformat_minor": 5
}
